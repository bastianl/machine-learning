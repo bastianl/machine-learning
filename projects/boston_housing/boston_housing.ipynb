{
 "cells": [
  {
   "cell_type": "markdown",
   "metadata": {},
   "source": [
    "# Machine Learning Engineer Nanodegree\n",
    "## Model Evaluation & Validation\n",
    "## Project 1: Predicting Boston Housing Prices\n",
    "\n",
    "Welcome to the first project of the Machine Learning Engineer Nanodegree! In this notebook, some template code has already been written. You will need to implement additional functionality to successfully answer all of the questions for this project. Unless it is requested, do not modify any of the code that has already been included. In this template code, there are four sections which you must complete to successfully produce a prediction with your model. Each section where you will write code is preceded by a **STEP X** header with comments describing what must be done. Please read the instructions carefully!\n",
    "\n",
    "In addition to implementing code, there will be questions that you must answer that relate to the project and your implementation. Each section where you will answer a question is preceded by a **QUESTION X** header. Be sure that you have carefully read each question and provide thorough answers in the text boxes that begin with \"**Answer:**\". Your project submission will be evaluated based on your answers to each of the questions.  \n",
    "\n",
    "A description of the dataset can be found [here](https://archive.ics.uci.edu/ml/datasets/Housing), which is provided by the **UCI Machine Learning Repository**."
   ]
  },
  {
   "cell_type": "markdown",
   "metadata": {},
   "source": [
    "# Getting Started\n",
    "To familiarize yourself with an iPython Notebook, **try double clicking on this cell**. You will notice that the text changes so that all the formatting is removed. This allows you to make edits to the block of text you see here. This block of text (and mostly anything that's not code) is written using [Markdown](http://daringfireball.net/projects/markdown/syntax), which is a way to format text using headers, links, italics, and many other options! Whether you're editing a Markdown text block or a code block (like the one below), you can use the keyboard shortcut **Shift + Enter** or **Shift + Return** to execute the code or text block. In this case, it will show the formatted text.\n",
    "\n",
    "Let's start by setting up some code we will need to get the rest of the project up and running. Use the keyboard shortcut mentioned above on the following code block to execute it. Alternatively, depending on your iPython Notebook program, you can press the **Play** button in the hotbar. You'll know the code block executes successfully if the message *\"Boston Housing dataset loaded successfully!\"* is printed."
   ]
  },
  {
   "cell_type": "code",
   "execution_count": 2,
   "metadata": {
    "collapsed": false
   },
   "outputs": [
    {
     "name": "stdout",
     "output_type": "stream",
     "text": [
      "Boston Housing dataset loaded successfully!\n"
     ]
    }
   ],
   "source": [
    "# Importing a few necessary libraries\n",
    "import numpy as np\n",
    "import matplotlib.pyplot as pl\n",
    "from sklearn import datasets\n",
    "from sklearn.tree import DecisionTreeRegressor\n",
    "\n",
    "# Make matplotlib show our plots inline (nicely formatted in the notebook)\n",
    "%matplotlib inline\n",
    "\n",
    "# Create our client's feature set for which we will be predicting a selling price\n",
    "CLIENT_FEATURES = [[11.95, 0.00, 18.100, 0, 0.6590, 5.6090, 90.00, 1.385, 24, 680.0, 20.20, 332.09, 12.13]]\n",
    "\n",
    "# Load the Boston Housing dataset into the city_data variable\n",
    "city_data = datasets.load_boston()\n",
    "\n",
    "# Initialize the housing prices and housing features\n",
    "housing_prices = city_data.target\n",
    "housing_features = city_data.data\n",
    "\n",
    "print(\"Boston Housing dataset loaded successfully!\")"
   ]
  },
  {
   "cell_type": "markdown",
   "metadata": {},
   "source": [
    "# Statistical Analysis and Data Exploration\n",
    "In this first section of the project, you will quickly investigate a few basic statistics about the dataset you are working with. In addition, you'll look at the client's feature set in `CLIENT_FEATURES` and see how this particular sample relates to the features of the dataset. Familiarizing yourself with the data through an explorative process is a fundamental practice to help you better understand your results."
   ]
  },
  {
   "cell_type": "markdown",
   "metadata": {},
   "source": [
    "## Step 1\n",
    "In the code block below, use the imported `numpy` library to calculate the requested statistics. You will need to replace each `None` you find with the appropriate `numpy` coding for the proper statistic to be printed. Be sure to execute the code block each time to test if your implementation is working successfully. The print statements will show the statistics you calculate!"
   ]
  },
  {
   "cell_type": "code",
   "execution_count": 3,
   "metadata": {
    "collapsed": false
   },
   "outputs": [
    {
     "data": {
      "text/plain": [
       "(506, 13)"
      ]
     },
     "execution_count": 3,
     "metadata": {},
     "output_type": "execute_result"
    }
   ],
   "source": [
    "housing_features.shape"
   ]
  },
  {
   "cell_type": "code",
   "execution_count": 4,
   "metadata": {
    "collapsed": false
   },
   "outputs": [
    {
     "name": "stdout",
     "output_type": "stream",
     "text": [
      "Boston Housing dataset statistics (in $1000's):\n",
      "\n",
      "Total number of houses: 506\n",
      "Total number of features: 13\n",
      "Minimum house price: 5.0\n",
      "Maximum house price: 50.0\n",
      "Mean house price: 22.533\n",
      "Median house price: 21.2\n",
      "Standard deviation of house price: 9.188\n"
     ]
    }
   ],
   "source": [
    "# Number of houses in the dataset\n",
    "total_houses = len(housing_prices)\n",
    "\n",
    "# Number of features in the dataset\n",
    "# numpy.array.shape is a tuple returning (rows, columns)\n",
    "total_features = housing_features.shape[1]\n",
    "\n",
    "# Minimum housing value in the dataset\n",
    "minimum_price = np.min(housing_prices)\n",
    "\n",
    "# Maximum housing value in the dataset\n",
    "maximum_price = np.max(housing_prices)\n",
    "\n",
    "# Mean house value of the dataset\n",
    "mean_price = np.mean(housing_prices)\n",
    "\n",
    "# Median house value of the dataset\n",
    "median_price = np.median(housing_prices)\n",
    "\n",
    "# Standard deviation of housing values of the dataset\n",
    "std_dev = np.std(housing_prices)\n",
    "\n",
    "# Show the calculated statistics\n",
    "print(\"Boston Housing dataset statistics (in $1000's):\\n\")\n",
    "print(\"Total number of houses:\", total_houses)\n",
    "print(\"Total number of features:\", total_features)\n",
    "print(\"Minimum house price:\", minimum_price)\n",
    "print(\"Maximum house price:\", maximum_price)\n",
    "print(\"Mean house price: {0:.3f}\".format(mean_price))\n",
    "print(\"Median house price:\", median_price)\n",
    "print(\"Standard deviation of house price: {0:.3f}\".format(std_dev))"
   ]
  },
  {
   "cell_type": "markdown",
   "metadata": {},
   "source": [
    "## Question 1\n",
    "As a reminder, you can view a description of the Boston Housing dataset [here](https://archive.ics.uci.edu/ml/datasets/Housing), where you can find the different features under **Attribute Information**. The `MEDV` attribute relates to the values stored in our `housing_prices` variable, so we do not consider that a feature of the data.\n",
    "\n",
    "*Of the features available for each data point, choose three that you feel are significant and give a brief description for each of what they measure.*\n",
    "\n",
    "Remember, you can **double click the text box below** to add your answer!"
   ]
  },
  {
   "cell_type": "markdown",
   "metadata": {},
   "source": [
    "**Answer: **\n",
    "1. `RM`: The number of rooms per house should have a significant impact on price, as it can be a surrogate for the size of the house.\n",
    "2. `CRIM`: I predict the crime rate in the neighborhood to be inversely proportional to the housing prices, as higher crime rate makes a neighborhood less attractive for buyers.\n",
    "3. `PTRATIO`: Conversely, a higher student teacher ratio could be indicative of the quality of education in the neighborhood, which is known to have a positive effect on housing prices."
   ]
  },
  {
   "cell_type": "markdown",
   "metadata": {},
   "source": [
    "## Question 2\n",
    "*Using your client's feature set `CLIENT_FEATURES`, which values correspond with the features you've chosen above?*  \n",
    "**Hint: ** Run the code block below to see the client's data."
   ]
  },
  {
   "cell_type": "code",
   "execution_count": 5,
   "metadata": {
    "collapsed": false
   },
   "outputs": [
    {
     "name": "stdout",
     "output_type": "stream",
     "text": [
      "[11.95, 0.0, 18.1, 0, 0.659, 5.609, 90.0, 1.385, 24, 680.0, 20.2, 332.09, 12.13]\n"
     ]
    }
   ],
   "source": [
    "print(CLIENT_FEATURES[0])"
   ]
  },
  {
   "cell_type": "code",
   "execution_count": 6,
   "metadata": {
    "collapsed": false
   },
   "outputs": [
    {
     "data": {
      "text/html": [
       "<div style=\"max-height:1000px;max-width:1500px;overflow:auto;\">\n",
       "<table border=\"1\" class=\"dataframe\">\n",
       "  <thead>\n",
       "    <tr style=\"text-align: right;\">\n",
       "      <th></th>\n",
       "      <th>RM</th>\n",
       "      <th>CRIM</th>\n",
       "      <th>PTRATIO</th>\n",
       "    </tr>\n",
       "  </thead>\n",
       "  <tbody>\n",
       "    <tr>\n",
       "      <th>0</th>\n",
       "      <td>5.609</td>\n",
       "      <td>11.95</td>\n",
       "      <td>20.2</td>\n",
       "    </tr>\n",
       "  </tbody>\n",
       "</table>\n",
       "</div>"
      ],
      "text/plain": [
       "      RM   CRIM  PTRATIO\n",
       "0  5.609  11.95     20.2"
      ]
     },
     "execution_count": 6,
     "metadata": {},
     "output_type": "execute_result"
    }
   ],
   "source": [
    "import pandas as pd\n",
    "pd.DataFrame(CLIENT_FEATURES, columns = city_data.feature_names)[[\"RM\", \"CRIM\", \"PTRATIO\"]]"
   ]
  },
  {
   "cell_type": "markdown",
   "metadata": {},
   "source": [
    "**Answer: **\n",
    "The features I selected as predictions are: `['RM', 'CRIM', 'PTRATIO']`.\n",
    "\n",
    "These correspond to the values `[5.609, 11.95, 20.2]` as seen above.\n",
    "\n",
    "Here is the full list of features:\n",
    "1. CRIM: per capita crime rate by town \n",
    "2. ZN: proportion of residential land zoned for lots over 25,000 sq.ft. \n",
    "3. INDUS: proportion of non-retail business acres per town \n",
    "4. CHAS: Charles River dummy variable (= 1 if tract bounds river; 0 otherwise) \n",
    "5. NOX: nitric oxides concentration (parts per 10 million) \n",
    "6. RM: average number of rooms per dwelling \n",
    "7. AGE: proportion of owner-occupied units built prior to 1940 \n",
    "8. DIS: weighted distances to five Boston employment centres \n",
    "9. RAD: index of accessibility to radial highways \n",
    "10. TAX: full-value property-tax rate per $10,000 \n",
    "11. PTRATIO: pupil-teacher ratio by town \n",
    "12. B: 1000(Bk - 0.63)^2 where Bk is the proportion of blacks by town \n",
    "13. LSTAT: % lower status of the population "
   ]
  },
  {
   "cell_type": "markdown",
   "metadata": {},
   "source": [
    "# Evaluating Model Performance\n",
    "In this second section of the project, you will begin to develop the tools necessary for a model to make a prediction. Being able to accurately evaluate each model's performance through the use of these tools helps to greatly reinforce the confidence in your predictions."
   ]
  },
  {
   "cell_type": "markdown",
   "metadata": {},
   "source": [
    "## Step 2\n",
    "In the code block below, you will need to implement code so that the `shuffle_split_data` function does the following:\n",
    "- Randomly shuffle the input data `X` and target labels (housing values) `y`.\n",
    "- Split the data into training and testing subsets, holding 30% of the data for testing.\n",
    "\n",
    "If you use any functions not already acessible from the imported libraries above, remember to include your import statement below as well!   \n",
    "Ensure that you have executed the code block once you are done. You'll know the `shuffle_split_data` function is working if the statement *\"Successfully shuffled and split the data!\"* is printed."
   ]
  },
  {
   "cell_type": "code",
   "execution_count": 7,
   "metadata": {
    "collapsed": false
   },
   "outputs": [
    {
     "name": "stdout",
     "output_type": "stream",
     "text": [
      "Successfully shuffled and split the data!\n"
     ]
    }
   ],
   "source": [
    "# Put any import statements you need for this code block here\n",
    "from sklearn import cross_validation\n",
    "\n",
    "def shuffle_split_data(X, y):\n",
    "    \"\"\" Shuffles and splits data into 70% training and 30% testing subsets,\n",
    "        then returns the training and testing subsets. \"\"\"\n",
    "\n",
    "    X_train, X_test, y_train, y_test = cross_validation.train_test_split(X, y, test_size=0.3, random_state=0)\n",
    "    return X_train, y_train, X_test, y_test\n",
    "\n",
    "# Test shuffle_split_data\n",
    "try:\n",
    "    X_train, y_train, X_test, y_test = shuffle_split_data(housing_features, housing_prices)\n",
    "    print(\"Successfully shuffled and split the data!\")\n",
    "except:\n",
    "    print(\"Something went wrong with shuffling and splitting the data.\")"
   ]
  },
  {
   "cell_type": "markdown",
   "metadata": {},
   "source": [
    "## Question 3\n",
    "*Why do we split the data into training and testing subsets for our model?*"
   ]
  },
  {
   "cell_type": "markdown",
   "metadata": {},
   "source": [
    "**Answer: ** When building our model, we need to evaluate the model on data it hasn't seen before. This gives us a sense of how the model will perform in the real world. It allows us to determine qualities such as bias and variance between different models, and allows us to see whether a model has been over fitted (low training error, but high testing error). However, we should never use the testing set for parameter tuning! This defeats the purpose of a hold out set, and can lead to building overfitted models."
   ]
  },
  {
   "cell_type": "markdown",
   "metadata": {},
   "source": [
    "## Step 3\n",
    "In the code block below, you will need to implement code so that the `performance_metric` function does the following:\n",
    "- Perform a total error calculation between the true values of the `y` labels `y_true` and the predicted values of the `y` labels `y_predict`.\n",
    "\n",
    "You will need to first choose an appropriate performance metric for this problem. See [the sklearn metrics documentation](http://scikit-learn.org/stable/modules/classes.html#sklearn-metrics-metrics) to view a list of available metric functions. **Hint: ** Look at the question below to see a list of the metrics that were covered in the supporting course for this project.\n",
    "\n",
    "Once you have determined which metric you will use, remember to include the necessary import statement as well!  \n",
    "Ensure that you have executed the code block once you are done. You'll know the `performance_metric` function is working if the statement *\"Successfully performed a metric calculation!\"* is printed."
   ]
  },
  {
   "cell_type": "code",
   "execution_count": 8,
   "metadata": {
    "collapsed": false
   },
   "outputs": [
    {
     "name": "stdout",
     "output_type": "stream",
     "text": [
      "Successfully performed a metric calculation!\n",
      "0.0\n"
     ]
    }
   ],
   "source": [
    "# Put any import statements you need for this code block here\n",
    "from sklearn import metrics\n",
    "\n",
    "def performance_metric(y_true, y_predict):\n",
    "    \"\"\" Calculates and returns the total error between true and predicted values\n",
    "        based on a performance metric chosen by the student. \"\"\"\n",
    "\n",
    "    error = metrics.mean_squared_error(y_true, y_predict) \n",
    "    # use RMSE\n",
    "    return np.sqrt(error)\n",
    "\n",
    "# Test performance_metric\n",
    "try:\n",
    "    total_error = performance_metric(y_train, y_train)\n",
    "    print(\"Successfully performed a metric calculation!\")\n",
    "    print(total_error)\n",
    "except:\n",
    "    print(\"Something went wrong with performing a metric calculation.\")"
   ]
  },
  {
   "cell_type": "markdown",
   "metadata": {},
   "source": [
    "## Question 4\n",
    "*Which performance metric below did you find was most appropriate for predicting housing prices and analyzing the total error. Why?*\n",
    "- *Accuracy*\n",
    "- *Precision*\n",
    "- *Recall*\n",
    "- *F1 Score*\n",
    "- *Mean Squared Error (MSE)*\n",
    "- *Mean Absolute Error (MAE)*"
   ]
  },
  {
   "cell_type": "markdown",
   "metadata": {},
   "source": [
    "**Answer**: For this problem I decided to use mean-squared-error (MSE) as the metric for evaluating my model. Accuracy, Precision, and Recall (and F1 Score, a weighted average of Precision and Recall) are very useful for classification problems. However, as this is a regression problem (we have a continuous y variable), we will rarely get predictions that exactly match our outputs. Therefore it is more useful to measure an aggregation of errors for all our predictions. Mean squared error accomplishes this as follows:\n",
    "\n",
    "$$\n",
    "\\mathrm{MSE}(\\mathbf{y}, \\mathbf{\\hat{y}}) = \\frac{1}{n} \\sum_{i=1}^{n} (y_i - \\hat{y_i}) ^ 2\n",
    "$$\n",
    "\n",
    "MSE has the benefit of emphasizing data points which are further away from the prediction more then those that are close to the prediction, which will help us generalize our model. In our case, we use the RMSE, as it has the same units of our dependent variable (housing price). This allows us to easily interpret how far off our models predictions are. The RMSE is just the square root of the MSE."
   ]
  },
  {
   "cell_type": "markdown",
   "metadata": {},
   "source": [
    "## Step 4 (Final Step)\n",
    "In the code block below, you will need to implement code so that the `fit_model` function does the following:\n",
    "- Create a scoring function using the same performance metric as in **Step 3**. See the [sklearn `make_scorer` documentation](http://scikit-learn.org/stable/modules/generated/sklearn.metrics.make_scorer.html).\n",
    "- Build a GridSearchCV object using `regressor`, `parameters`, and `scoring_function`. See the [sklearn documentation on GridSearchCV](http://scikit-learn.org/stable/modules/generated/sklearn.grid_search.GridSearchCV.html).\n",
    "\n",
    "When building the scoring function and GridSearchCV object, *be sure that you read the parameters documentation thoroughly.* It is not always the case that a default parameter for a function is the appropriate setting for the problem you are working on.\n",
    "\n",
    "Since you are using `sklearn` functions, remember to include the necessary import statements below as well!  \n",
    "Ensure that you have executed the code block once you are done. You'll know the `fit_model` function is working if the statement *\"Successfully fit a model to the data!\"* is printed."
   ]
  },
  {
   "cell_type": "code",
   "execution_count": 9,
   "metadata": {
    "collapsed": false
   },
   "outputs": [
    {
     "name": "stdout",
     "output_type": "stream",
     "text": [
      "Successfully fit a model!\n"
     ]
    }
   ],
   "source": [
    "# Put any import statements you need for this code block\n",
    "from sklearn.grid_search import GridSearchCV\n",
    "from sklearn.metrics import make_scorer\n",
    "\n",
    "def fit_model(X, y):\n",
    "    \"\"\" Tunes a decision tree regressor model using GridSearchCV on the input data X \n",
    "        and target labels y and returns this optimal model. \"\"\"\n",
    "\n",
    "    # Create a decision tree regressor object\n",
    "    regressor = DecisionTreeRegressor()\n",
    "\n",
    "    # Set up the parameters we wish to tune\n",
    "    parameters = {'max_depth':(1,2,3,4,5,6,7,8,9,10)}\n",
    "\n",
    "    # Make an appropriate scoring function\n",
    "    # our performance metric function implemented above\n",
    "    scoring_function = make_scorer(performance_metric, greater_is_better=False)\n",
    "\n",
    "    # Make the GridSearchCV object\n",
    "    reg = GridSearchCV(estimator=regressor, param_grid=parameters, scoring=scoring_function)\n",
    "\n",
    "    # Fit the learner to the data to obtain the optimal model with tuned parameters\n",
    "    reg.fit(X, y)\n",
    "\n",
    "    # Return the optimal model\n",
    "    return reg.best_estimator_\n",
    "\n",
    "# Test fit_model on entire dataset\n",
    "reg = fit_model(housing_features, housing_prices)\n",
    "print(\"Successfully fit a model!\")"
   ]
  },
  {
   "cell_type": "markdown",
   "metadata": {},
   "source": [
    "## Question 5\n",
    "*What is the grid search algorithm and when is it applicable?*"
   ]
  },
  {
   "cell_type": "markdown",
   "metadata": {},
   "source": [
    "**Answer: ** A grid search algorithm is a form of hyperparamter tuning, using an exhaustive search to find an optimal model from the every combination of hyperparameters. In some cases GridSearch can be inefficient, as when one adds more hyperparamters, the space of all possible parameters becomes very large (curse of dimensionality). Once the paramter space becomes very large, it may be more appropriate to use a Randomized Search, or a gradient descent paramter search."
   ]
  },
  {
   "cell_type": "markdown",
   "metadata": {},
   "source": [
    "## Question 6\n",
    "*What is cross-validation, and how is it performed on a model? Why would cross-validation be helpful when using grid search?*"
   ]
  },
  {
   "cell_type": "markdown",
   "metadata": {},
   "source": [
    "**Answer: ** Cross-validation is when a holdout set is used to evaluate the model on a set of data it has not seen before. This is useful in grid-search, as we can make sure our model isn't overfitting as we use the validation set to score each model, but we still have a test-set to evaluate the best model at the end of our workflow. Cross validation also has the benefit of not requiring any additional data, as parts of our training set are \"held out\" in each iteration of KFold cross validation, for instance, which are then averaged or smoothed later for better results."
   ]
  },
  {
   "cell_type": "markdown",
   "metadata": {},
   "source": [
    "# Checkpoint!\n",
    "You have now successfully completed your last code implementation section. Pat yourself on the back! All of your functions written above will be executed in the remaining sections below, and questions will be asked about various results for you to analyze. To prepare the **Analysis** and **Prediction** sections, you will need to intialize the two functions below. Remember, there's no need to implement any more code, so sit back and execute the code blocks! Some code comments are provided if you find yourself interested in the functionality."
   ]
  },
  {
   "cell_type": "code",
   "execution_count": 10,
   "metadata": {
    "collapsed": false
   },
   "outputs": [],
   "source": [
    "def learning_curves(X_train, y_train, X_test, y_test):\n",
    "    \"\"\" Calculates the performance of several models with varying sizes of training data.\n",
    "        The learning and testing error rates for each model are then plotted. \"\"\"\n",
    "    \n",
    "    print(\"Creating learning curve graphs for max_depths of 1, 3, 6, and 10. . .\")\n",
    "    \n",
    "    # Create the figure window\n",
    "    fig = pl.figure(figsize=(10,8))\n",
    "\n",
    "    # We will vary the training set size so that we have 50 different sizes\n",
    "    sizes = np.rint(np.linspace(1, len(X_train), 50)).astype(int)\n",
    "    train_err = np.zeros(len(sizes))\n",
    "    test_err = np.zeros(len(sizes))\n",
    "\n",
    "    # Create four different models based on max_depth\n",
    "    for k, depth in enumerate([1,3,6,10]):\n",
    "        \n",
    "        for i, s in enumerate(sizes):\n",
    "            \n",
    "            # Setup a decision tree regressor so that it learns a tree with max_depth = depth\n",
    "            regressor = DecisionTreeRegressor(max_depth = depth)\n",
    "            \n",
    "            # Fit the learner to the training data\n",
    "            regressor.fit(X_train[:s], y_train[:s])\n",
    "\n",
    "            # Find the performance on the training set\n",
    "            train_err[i] = performance_metric(y_train[:s], regressor.predict(X_train[:s]))\n",
    "            \n",
    "            # Find the performance on the testing set\n",
    "            test_err[i] = performance_metric(y_test, regressor.predict(X_test))\n",
    "\n",
    "        # Subplot the learning curve graph\n",
    "        ax = fig.add_subplot(2, 2, k+1)\n",
    "        ax.plot(sizes, test_err, lw = 2, label = 'Testing Error')\n",
    "        ax.plot(sizes, train_err, lw = 2, label = 'Training Error')\n",
    "        ax.legend()\n",
    "        ax.set_title('max_depth = %s'%(depth))\n",
    "        ax.set_xlabel('Number of Data Points in Training Set')\n",
    "        ax.set_ylabel('Total Error')\n",
    "        ax.set_xlim([0, len(X_train)])\n",
    "    \n",
    "    # Visual aesthetics\n",
    "    fig.suptitle('Decision Tree Regressor Learning Performances', fontsize=18, y=1.03)\n",
    "    fig.tight_layout()\n",
    "    fig.show()"
   ]
  },
  {
   "cell_type": "code",
   "execution_count": 11,
   "metadata": {
    "collapsed": true
   },
   "outputs": [],
   "source": [
    "def model_complexity(X_train, y_train, X_test, y_test):\n",
    "    \"\"\" Calculates the performance of the model as model complexity increases.\n",
    "        The learning and testing errors rates are then plotted. \"\"\"\n",
    "    \n",
    "    print(\"Creating a model complexity graph. . . \")\n",
    "\n",
    "    # We will vary the max_depth of a decision tree model from 1 to 14\n",
    "    max_depth = np.arange(1, 14)\n",
    "    train_err = np.zeros(len(max_depth))\n",
    "    test_err = np.zeros(len(max_depth))\n",
    "\n",
    "    for i, d in enumerate(max_depth):\n",
    "        # Setup a Decision Tree Regressor so that it learns a tree with depth d\n",
    "        regressor = DecisionTreeRegressor(max_depth = d)\n",
    "\n",
    "        # Fit the learner to the training data\n",
    "        regressor.fit(X_train, y_train)\n",
    "\n",
    "        # Find the performance on the training set\n",
    "        train_err[i] = performance_metric(y_train, regressor.predict(X_train))\n",
    "\n",
    "        # Find the performance on the testing set\n",
    "        test_err[i] = performance_metric(y_test, regressor.predict(X_test))\n",
    "\n",
    "    # Plot the model complexity graph\n",
    "    pl.figure(figsize=(7, 5))\n",
    "    pl.title('Decision Tree Regressor Complexity Performance')\n",
    "    pl.plot(max_depth, test_err, lw=2, label = 'Testing Error')\n",
    "    pl.plot(max_depth, train_err, lw=2, label = 'Training Error')\n",
    "    pl.legend()\n",
    "    pl.xlabel('Maximum Depth')\n",
    "    pl.ylabel('Total Error')\n",
    "    pl.show()"
   ]
  },
  {
   "cell_type": "markdown",
   "metadata": {},
   "source": [
    "# Analyzing Model Performance\n",
    "In this third section of the project, you'll take a look at several models' learning and testing error rates on various subsets of training data. Additionally, you'll investigate one particular algorithm with an increasing `max_depth` parameter on the full training set to observe how model complexity affects learning and testing errors. Graphing your model's performance based on varying criteria can be beneficial in the analysis process, such as visualizing behavior that may not have been apparent from the results alone."
   ]
  },
  {
   "cell_type": "code",
   "execution_count": 12,
   "metadata": {
    "collapsed": false
   },
   "outputs": [
    {
     "name": "stdout",
     "output_type": "stream",
     "text": [
      "Creating learning curve graphs for max_depths of 1, 3, 6, and 10. . .\n"
     ]
    },
    {
     "name": "stderr",
     "output_type": "stream",
     "text": [
      "/usr/local/lib/python3.4/site-packages/matplotlib/figure.py:397: UserWarning: matplotlib is currently using a non-GUI backend, so cannot show the figure\n",
      "  \"matplotlib is currently using a non-GUI backend, \"\n"
     ]
    },
    {
     "data": {
      "image/png": "[encoded data removed]",
      "text/plain": [
       "<matplotlib.figure.Figure at 0x115fb7cf8>"
      ]
     },
     "metadata": {},
     "output_type": "display_data"
    }
   ],
   "source": [
    "learning_curves(X_train, y_train, X_test, y_test)"
   ]
  },
  {
   "cell_type": "markdown",
   "metadata": {},
   "source": [
    "## Question 7\n",
    "*Choose one of the learning curve graphs that are created above. What is the max depth for the chosen model? As the size of the training set increases, what happens to the training error? What happens to the testing error?*"
   ]
  },
  {
   "cell_type": "markdown",
   "metadata": {},
   "source": [
    "**Answer: ** `max_depth = 6`: As the number of samples in the training set increases the training error seems to steadily increase. The testing error initially decreases very rapidly. This is likely because we are making predictions based off a small amount of data, which does not represent our population well. The testing error seems to continue approaching a lower bound (on average, it oscilates), possibly around 5 (`$5000`). However, we can see the model still has a fair amount of variance, as the distance between the testing and training error is around 2 (`$2000`)."
   ]
  },
  {
   "cell_type": "markdown",
   "metadata": {},
   "source": [
    "## Question 8\n",
    "*Look at the learning curve graphs for the model with a max depth of 1 and a max depth of 10. When the model is using the full training set, does it suffer from high bias or high variance when the max depth is 1? What about when the max depth is 10?*"
   ]
  },
  {
   "cell_type": "markdown",
   "metadata": {},
   "source": [
    "**Answer: ** When max_depth = 1 the model appears to suffer from high bias, as the training set and testing set error are very close, but it is relatively high. This could indicate our model complexity is too low. When max_depth = 10, we see that our training error is much lower then our testing error, indicating that the model is overfitting our data. This is an example of high variance."
   ]
  },
  {
   "cell_type": "code",
   "execution_count": 16,
   "metadata": {
    "collapsed": false
   },
   "outputs": [
    {
     "name": "stdout",
     "output_type": "stream",
     "text": [
      "Creating a model complexity graph. . . \n"
     ]
    },
    {
     "data": {
      "image/png": "[encoded data removed]",
      "text/plain": [
       "<matplotlib.figure.Figure at 0x116c06320>"
      ]
     },
     "metadata": {},
     "output_type": "display_data"
    }
   ],
   "source": [
    "model_complexity(X_train, y_train, X_test, y_test)"
   ]
  },
  {
   "cell_type": "markdown",
   "metadata": {},
   "source": [
    "## Question 9\n",
    "*From the model complexity graph above, describe the training and testing errors as the max depth increases. Based on your interpretation of the graph, which max depth results in a model that best generalizes the dataset? Why?*"
   ]
  },
  {
   "cell_type": "markdown",
   "metadata": {},
   "source": [
    "**Answer: ** As Maximum Depth increases, we see that our training error approaches 0, a typical sign of overfitting. Furthermore, as maximum depth increases the magnitutde of (test_error - train_error) not only increases, but our test error also seems to increase, further indicating overfitting.\n",
    "\n",
    "It looks like the model which best generalizes the dataset is max_depth=6. We see a sort of valley: the test error is lower then at other max_depths, but the variance is not yet very high. Considering the principle of Occams razor, we would select this model as it has lowest complexity, despite the similar test error of other models with higher complexity.\n",
    "\n",
    "Another indicator of overfitting is that the graph exists in two phases. During the first phase, up to around max_depth = 5-6 the test_error and training_error both decrease. After max_depth = 6, the training error continues to decrease (overfitting), while the test_error oscilates and slightly increases on average."
   ]
  },
  {
   "cell_type": "markdown",
   "metadata": {},
   "source": [
    "# Model Prediction\n",
    "In this final section of the project, you will make a prediction on the client's feature set using an optimized model from `fit_model`. When applying grid search along with cross-validation to optimize your model, it would typically be performed and validated on a training set and subsequently evaluated on a **dedicated test set**. In this project, the optimization below is performed on the *entire dataset* (as opposed to the training set you made above) due to the many outliers in the data. Using the entire dataset for training provides for a less volatile prediction at the expense of not testing your model's performance. \n",
    "\n",
    "*To answer the following questions, it is recommended that you run the code blocks several times and use the median or mean value of the results.*"
   ]
  },
  {
   "cell_type": "markdown",
   "metadata": {},
   "source": [
    "## Question 10\n",
    "*Using grid search on the entire dataset, what is the optimal `max_depth` parameter for your model? How does this result compare to your intial intuition?*  \n",
    "**Hint: ** Run the code block below to see the max depth produced by your optimized model."
   ]
  },
  {
   "cell_type": "code",
   "execution_count": 42,
   "metadata": {
    "collapsed": true
   },
   "outputs": [],
   "source": [
    "errors = [fit_model(housing_features, housing_prices).get_params()['max_depth'] for _ in range(100)]"
   ]
  },
  {
   "cell_type": "code",
   "execution_count": 43,
   "metadata": {
    "collapsed": false
   },
   "outputs": [
    {
     "name": "stdout",
     "output_type": "stream",
     "text": [
      "Final model has an average optimal max_depth parameter of 5.49\n"
     ]
    }
   ],
   "source": [
    "print(\"Final model has an average optimal max_depth parameter of\", np.mean(errors))"
   ]
  },
  {
   "cell_type": "markdown",
   "metadata": {},
   "source": [
    "**Answer: ** Final model has an optimal max_depth parameter of 6. This is also what appeared to be the lowest / least complex point on the graph!"
   ]
  },
  {
   "cell_type": "markdown",
   "metadata": {},
   "source": [
    "## Question 11\n",
    "*With your parameter-tuned model, what is the best selling price for your client's home? How does this selling price compare to the basic statistics you calculated on the dataset?*  \n",
    "\n",
    "**Hint: ** Run the code block below to have your parameter-tuned model make a prediction on the client's home."
   ]
  },
  {
   "cell_type": "code",
   "execution_count": 72,
   "metadata": {
    "collapsed": false
   },
   "outputs": [
    {
     "name": "stdout",
     "output_type": "stream",
     "text": [
      "Predicted value of client's home: 20.766\n"
     ]
    }
   ],
   "source": [
    "sale_price = reg.predict(CLIENT_FEATURES)\n",
    "print(\"Predicted value of client's home: {0:.3f}\".format(sale_price[0]))"
   ]
  },
  {
   "cell_type": "markdown",
   "metadata": {},
   "source": [
    "**Answer:** The best prediction price is `$20,766`. \n",
    "This is fairly close to the mean/median of all the housing prices, and well within our range of `$0`, to `$50,000` as calculated above."
   ]
  },
  {
   "cell_type": "markdown",
   "metadata": {},
   "source": [
    "## Question 12 (Final Question):\n",
    "*In a few sentences, discuss whether you would use this model or not to predict the selling price of future clients' homes in the Greater Boston area.*"
   ]
  },
  {
   "cell_type": "markdown",
   "metadata": {},
   "source": [
    "**Answer: ** Before deciding on a model to use, I would see whether I could obtain more data on Boston's or similar metropolitin areas housing markets, as the amount of data we have was fairly low. I would also try using a multivariate regression model, as it seems more suitable for this problem of predicting continuous output. Finally, I would also expand our Grid Search space, and tune more hyperparameters as it is possible our model could be optimized further."
   ]
  },
  {
   "cell_type": "code",
   "execution_count": 24,
   "metadata": {
    "collapsed": false
   },
   "outputs": [
    {
     "data": {
      "text/plain": [
       "array([ 0.00688818,  0.        ,  0.        ,  0.        ,  0.05570349,\n",
       "        0.64025451,  0.        ,  0.07446457,  0.        ,  0.        ,\n",
       "        0.00410283,  0.        ,  0.21858642])"
      ]
     },
     "execution_count": 24,
     "metadata": {},
     "output_type": "execute_result"
    }
   ],
   "source": [
    "reg.feature_importances_"
   ]
  },
  {
   "cell_type": "code",
   "execution_count": 17,
   "metadata": {
    "collapsed": false,
    "scrolled": true
   },
   "outputs": [
    {
     "data": {
      "image/svg+xml": [
       "<?xml version=\"1.0\" encoding=\"UTF-8\" standalone=\"no\"?>\n",
       "<!DOCTYPE svg PUBLIC \"-//W3C//DTD SVG 1.1//EN\"\n",
       " \"http://www.w3.org/Graphics/SVG/1.1/DTD/svg11.dtd\">\n",
       "<!-- Generated by graphviz version 2.38.0 (20140413.2041)\n",
       " -->\n",
       "<!-- Title: Tree Pages: 1 -->\n",
       "<svg width=\"1752pt\" height=\"458pt\"\n",
       " viewBox=\"0.00 0.00 1752.35 458.00\" xmlns=\"http://www.w3.org/2000/svg\" xmlns:xlink=\"http://www.w3.org/1999/xlink\">\n",
       "<g id=\"graph0\" class=\"graph\" transform=\"scale(1 1) rotate(0) translate(4 454)\">\n",
       "<title>Tree</title>\n",
       "<polygon fill=\"white\" stroke=\"none\" points=\"-4,4 -4,-454 1748.35,-454 1748.35,4 -4,4\"/>\n",
       "<!-- 0 -->\n",
       "<g id=\"node1\" class=\"node\"><title>0</title>\n",
       "<path fill=\"#e58139\" fill-opacity=\"0.305882\" stroke=\"black\" d=\"M1052.37,-450C1052.37,-450 960.306,-450 960.306,-450 954.306,-450 948.306,-444 948.306,-438 948.306,-438 948.306,-398 948.306,-398 948.306,-392 954.306,-386 960.306,-386 960.306,-386 1052.37,-386 1052.37,-386 1058.37,-386 1064.37,-392 1064.37,-398 1064.37,-398 1064.37,-438 1064.37,-438 1064.37,-444 1058.37,-450 1052.37,-450\"/>\n",
       "<text text-anchor=\"start\" x=\"970.201\" y=\"-434.8\" font-family=\"Helvetica,sans-Serif\" font-size=\"14.00\">RM ≤ 6.941</text>\n",
       "<text text-anchor=\"start\" x=\"959.831\" y=\"-420.8\" font-family=\"Helvetica,sans-Serif\" font-size=\"14.00\">mse = 84.4196</text>\n",
       "<text text-anchor=\"start\" x=\"960.614\" y=\"-406.8\" font-family=\"Helvetica,sans-Serif\" font-size=\"14.00\">samples = 506</text>\n",
       "<text text-anchor=\"start\" x=\"956.321\" y=\"-392.8\" font-family=\"Helvetica,sans-Serif\" font-size=\"14.00\">value = 22.5328</text>\n",
       "</g>\n",
       "<!-- 1 -->\n",
       "<g id=\"node2\" class=\"node\"><title>1</title>\n",
       "<path fill=\"#e58139\" fill-opacity=\"0.239216\" stroke=\"black\" d=\"M794.366,-350C794.366,-350 702.306,-350 702.306,-350 696.306,-350 690.306,-344 690.306,-338 690.306,-338 690.306,-298 690.306,-298 690.306,-292 696.306,-286 702.306,-286 702.306,-286 794.366,-286 794.366,-286 800.366,-286 806.366,-292 806.366,-298 806.366,-298 806.366,-338 806.366,-338 806.366,-344 800.366,-350 794.366,-350\"/>\n",
       "<text text-anchor=\"start\" x=\"706.353\" y=\"-334.8\" font-family=\"Helvetica,sans-Serif\" font-size=\"14.00\">LSTAT ≤ 14.4</text>\n",
       "<text text-anchor=\"start\" x=\"701.831\" y=\"-320.8\" font-family=\"Helvetica,sans-Serif\" font-size=\"14.00\">mse = 40.2728</text>\n",
       "<text text-anchor=\"start\" x=\"702.614\" y=\"-306.8\" font-family=\"Helvetica,sans-Serif\" font-size=\"14.00\">samples = 430</text>\n",
       "<text text-anchor=\"start\" x=\"698.321\" y=\"-292.8\" font-family=\"Helvetica,sans-Serif\" font-size=\"14.00\">value = 19.9337</text>\n",
       "</g>\n",
       "<!-- 0&#45;&gt;1 -->\n",
       "<g id=\"edge1\" class=\"edge\"><title>0&#45;&gt;1</title>\n",
       "<path fill=\"none\" stroke=\"black\" d=\"M948.114,-394.885C908.956,-380.011 857.195,-360.35 816.172,-344.767\"/>\n",
       "<polygon fill=\"black\" stroke=\"black\" points=\"817.383,-341.483 806.792,-341.204 814.897,-348.027 817.383,-341.483\"/>\n",
       "<text text-anchor=\"middle\" x=\"817.04\" y=\"-359.807\" font-family=\"Helvetica,sans-Serif\" font-size=\"14.00\">True</text>\n",
       "</g>\n",
       "<!-- 16 -->\n",
       "<g id=\"node17\" class=\"node\"><title>16</title>\n",
       "<path fill=\"#e58139\" fill-opacity=\"0.678431\" stroke=\"black\" d=\"M1317.37,-350C1317.37,-350 1225.31,-350 1225.31,-350 1219.31,-350 1213.31,-344 1213.31,-338 1213.31,-338 1213.31,-298 1213.31,-298 1213.31,-292 1219.31,-286 1225.31,-286 1225.31,-286 1317.37,-286 1317.37,-286 1323.37,-286 1329.37,-292 1329.37,-298 1329.37,-298 1329.37,-338 1329.37,-338 1329.37,-344 1323.37,-350 1317.37,-350\"/>\n",
       "<text text-anchor=\"start\" x=\"1235.2\" y=\"-334.8\" font-family=\"Helvetica,sans-Serif\" font-size=\"14.00\">RM ≤ 7.437</text>\n",
       "<text text-anchor=\"start\" x=\"1224.83\" y=\"-320.8\" font-family=\"Helvetica,sans-Serif\" font-size=\"14.00\">mse = 79.7292</text>\n",
       "<text text-anchor=\"start\" x=\"1229.51\" y=\"-306.8\" font-family=\"Helvetica,sans-Serif\" font-size=\"14.00\">samples = 76</text>\n",
       "<text text-anchor=\"start\" x=\"1221.32\" y=\"-292.8\" font-family=\"Helvetica,sans-Serif\" font-size=\"14.00\">value = 37.2382</text>\n",
       "</g>\n",
       "<!-- 0&#45;&gt;16 -->\n",
       "<g id=\"edge16\" class=\"edge\"><title>0&#45;&gt;16</title>\n",
       "<path fill=\"none\" stroke=\"black\" d=\"M1064.49,-395.493C1105.57,-380.303 1160.74,-359.9 1203.77,-343.986\"/>\n",
       "<polygon fill=\"black\" stroke=\"black\" points=\"1205.15,-347.208 1213.32,-340.456 1202.72,-340.642 1205.15,-347.208\"/>\n",
       "<text text-anchor=\"middle\" x=\"1202.87\" y=\"-358.968\" font-family=\"Helvetica,sans-Serif\" font-size=\"14.00\">False</text>\n",
       "</g>\n",
       "<!-- 2 -->\n",
       "<g id=\"node3\" class=\"node\"><title>2</title>\n",
       "<path fill=\"#e58139\" fill-opacity=\"0.325490\" stroke=\"black\" d=\"M397.366,-250C397.366,-250 305.306,-250 305.306,-250 299.306,-250 293.306,-244 293.306,-238 293.306,-238 293.306,-198 293.306,-198 293.306,-192 299.306,-186 305.306,-186 305.306,-186 397.366,-186 397.366,-186 403.366,-186 409.366,-192 409.366,-198 409.366,-198 409.366,-238 409.366,-238 409.366,-244 403.366,-250 397.366,-250\"/>\n",
       "<text text-anchor=\"start\" x=\"310.525\" y=\"-234.8\" font-family=\"Helvetica,sans-Serif\" font-size=\"14.00\">DIS ≤ 1.3849</text>\n",
       "<text text-anchor=\"start\" x=\"304.831\" y=\"-220.8\" font-family=\"Helvetica,sans-Serif\" font-size=\"14.00\">mse = 26.0087</text>\n",
       "<text text-anchor=\"start\" x=\"305.614\" y=\"-206.8\" font-family=\"Helvetica,sans-Serif\" font-size=\"14.00\">samples = 255</text>\n",
       "<text text-anchor=\"start\" x=\"301.321\" y=\"-192.8\" font-family=\"Helvetica,sans-Serif\" font-size=\"14.00\">value = 23.3498</text>\n",
       "</g>\n",
       "<!-- 1&#45;&gt;2 -->\n",
       "<g id=\"edge2\" class=\"edge\"><title>1&#45;&gt;2</title>\n",
       "<path fill=\"none\" stroke=\"black\" d=\"M690.184,-302.645C618.248,-284.888 495.966,-254.702 419.638,-235.861\"/>\n",
       "<polygon fill=\"black\" stroke=\"black\" points=\"420.191,-232.392 409.644,-233.393 418.514,-239.188 420.191,-232.392\"/>\n",
       "</g>\n",
       "<!-- 9 -->\n",
       "<g id=\"node10\" class=\"node\"><title>9</title>\n",
       "<path fill=\"#e58139\" fill-opacity=\"0.113725\" stroke=\"black\" d=\"M790.846,-250C790.846,-250 705.826,-250 705.826,-250 699.826,-250 693.826,-244 693.826,-238 693.826,-238 693.826,-198 693.826,-198 693.826,-192 699.826,-186 705.826,-186 705.826,-186 790.846,-186 790.846,-186 796.846,-186 802.846,-192 802.846,-198 802.846,-198 802.846,-238 802.846,-238 802.846,-244 796.846,-250 790.846,-250\"/>\n",
       "<text text-anchor=\"start\" x=\"707.918\" y=\"-234.8\" font-family=\"Helvetica,sans-Serif\" font-size=\"14.00\">NOX ≤ 0.607</text>\n",
       "<text text-anchor=\"start\" x=\"701.831\" y=\"-220.8\" font-family=\"Helvetica,sans-Serif\" font-size=\"14.00\">mse = 19.2757</text>\n",
       "<text text-anchor=\"start\" x=\"702.614\" y=\"-206.8\" font-family=\"Helvetica,sans-Serif\" font-size=\"14.00\">samples = 175</text>\n",
       "<text text-anchor=\"start\" x=\"702.214\" y=\"-192.8\" font-family=\"Helvetica,sans-Serif\" font-size=\"14.00\">value = 14.956</text>\n",
       "</g>\n",
       "<!-- 1&#45;&gt;9 -->\n",
       "<g id=\"edge9\" class=\"edge\"><title>1&#45;&gt;9</title>\n",
       "<path fill=\"none\" stroke=\"black\" d=\"M748.336,-285.992C748.336,-277.859 748.336,-268.959 748.336,-260.378\"/>\n",
       "<polygon fill=\"black\" stroke=\"black\" points=\"751.836,-260.142 748.336,-250.142 744.836,-260.142 751.836,-260.142\"/>\n",
       "</g>\n",
       "<!-- 3 -->\n",
       "<g id=\"node4\" class=\"node\"><title>3</title>\n",
       "<path fill=\"#e58139\" fill-opacity=\"0.890196\" stroke=\"black\" d=\"M199.846,-150C199.846,-150 114.826,-150 114.826,-150 108.826,-150 102.826,-144 102.826,-138 102.826,-138 102.826,-98 102.826,-98 102.826,-92 108.826,-86 114.826,-86 114.826,-86 199.846,-86 199.846,-86 205.846,-86 211.846,-92 211.846,-98 211.846,-98 211.846,-138 211.846,-138 211.846,-144 205.846,-150 199.846,-150\"/>\n",
       "<text text-anchor=\"start\" x=\"111.46\" y=\"-134.8\" font-family=\"Helvetica,sans-Serif\" font-size=\"14.00\">LSTAT ≤ 10.83</text>\n",
       "<text text-anchor=\"start\" x=\"110.831\" y=\"-120.8\" font-family=\"Helvetica,sans-Serif\" font-size=\"14.00\">mse = 78.1456</text>\n",
       "<text text-anchor=\"start\" x=\"119.4\" y=\"-106.8\" font-family=\"Helvetica,sans-Serif\" font-size=\"14.00\">samples = 5</text>\n",
       "<text text-anchor=\"start\" x=\"115.107\" y=\"-92.8\" font-family=\"Helvetica,sans-Serif\" font-size=\"14.00\">value = 45.58</text>\n",
       "</g>\n",
       "<!-- 2&#45;&gt;3 -->\n",
       "<g id=\"edge3\" class=\"edge\"><title>2&#45;&gt;3</title>\n",
       "<path fill=\"none\" stroke=\"black\" d=\"M293.13,-187.597C270.369,-176.099 244.197,-162.878 220.942,-151.131\"/>\n",
       "<polygon fill=\"black\" stroke=\"black\" points=\"222.354,-147.923 211.85,-146.538 219.197,-154.171 222.354,-147.923\"/>\n",
       "</g>\n",
       "<!-- 6 -->\n",
       "<g id=\"node7\" class=\"node\"><title>6</title>\n",
       "<path fill=\"#e58139\" fill-opacity=\"0.317647\" stroke=\"black\" d=\"M397.366,-150C397.366,-150 305.306,-150 305.306,-150 299.306,-150 293.306,-144 293.306,-138 293.306,-138 293.306,-98 293.306,-98 293.306,-92 299.306,-86 305.306,-86 305.306,-86 397.366,-86 397.366,-86 403.366,-86 409.366,-92 409.366,-98 409.366,-98 409.366,-138 409.366,-138 409.366,-144 403.366,-150 397.366,-150\"/>\n",
       "<text text-anchor=\"start\" x=\"315.201\" y=\"-134.8\" font-family=\"Helvetica,sans-Serif\" font-size=\"14.00\">RM ≤ 6.543</text>\n",
       "<text text-anchor=\"start\" x=\"304.831\" y=\"-120.8\" font-family=\"Helvetica,sans-Serif\" font-size=\"14.00\">mse = 14.8847</text>\n",
       "<text text-anchor=\"start\" x=\"305.614\" y=\"-106.8\" font-family=\"Helvetica,sans-Serif\" font-size=\"14.00\">samples = 250</text>\n",
       "<text text-anchor=\"start\" x=\"301.321\" y=\"-92.8\" font-family=\"Helvetica,sans-Serif\" font-size=\"14.00\">value = 22.9052</text>\n",
       "</g>\n",
       "<!-- 2&#45;&gt;6 -->\n",
       "<g id=\"edge6\" class=\"edge\"><title>2&#45;&gt;6</title>\n",
       "<path fill=\"none\" stroke=\"black\" d=\"M351.336,-185.992C351.336,-177.859 351.336,-168.959 351.336,-160.378\"/>\n",
       "<polygon fill=\"black\" stroke=\"black\" points=\"354.836,-160.142 351.336,-150.142 347.836,-160.142 354.836,-160.142\"/>\n",
       "</g>\n",
       "<!-- 4 -->\n",
       "<g id=\"node5\" class=\"node\"><title>4</title>\n",
       "<path fill=\"#e58139\" stroke=\"black\" d=\"M80.5084,-50C80.5084,-50 12.1635,-50 12.1635,-50 6.16348,-50 0.163484,-44 0.163484,-38 0.163484,-38 0.163484,-12 0.163484,-12 0.163484,-6 6.16348,-0 12.1635,-0 12.1635,-0 80.5084,-0 80.5084,-0 86.5084,-0 92.5084,-6 92.5084,-12 92.5084,-12 92.5084,-38 92.5084,-38 92.5084,-44 86.5084,-50 80.5084,-50\"/>\n",
       "<text text-anchor=\"start\" x=\"15.4033\" y=\"-34.8\" font-family=\"Helvetica,sans-Serif\" font-size=\"14.00\">mse = 0.0</text>\n",
       "<text text-anchor=\"start\" x=\"8.3999\" y=\"-20.8\" font-family=\"Helvetica,sans-Serif\" font-size=\"14.00\">samples = 4</text>\n",
       "<text text-anchor=\"start\" x=\"8\" y=\"-6.8\" font-family=\"Helvetica,sans-Serif\" font-size=\"14.00\">value = 50.0</text>\n",
       "</g>\n",
       "<!-- 3&#45;&gt;4 -->\n",
       "<g id=\"edge4\" class=\"edge\"><title>3&#45;&gt;4</title>\n",
       "<path fill=\"none\" stroke=\"black\" d=\"M119.446,-85.9375C107.812,-76.3993 95.0256,-65.9167 83.444,-56.4219\"/>\n",
       "<polygon fill=\"black\" stroke=\"black\" points=\"85.5997,-53.6634 75.6473,-50.0301 81.1617,-59.0768 85.5997,-53.6634\"/>\n",
       "</g>\n",
       "<!-- 5 -->\n",
       "<g id=\"node6\" class=\"node\"><title>5</title>\n",
       "<path fill=\"#e58139\" fill-opacity=\"0.443137\" stroke=\"black\" d=\"M191.508,-50C191.508,-50 123.163,-50 123.163,-50 117.163,-50 111.163,-44 111.163,-38 111.163,-38 111.163,-12 111.163,-12 111.163,-6 117.163,-0 123.163,-0 123.163,-0 191.508,-0 191.508,-0 197.508,-0 203.508,-6 203.508,-12 203.508,-12 203.508,-38 203.508,-38 203.508,-44 197.508,-50 191.508,-50\"/>\n",
       "<text text-anchor=\"start\" x=\"124.072\" y=\"-34.8\" font-family=\"Helvetica,sans-Serif\" font-size=\"14.00\">mse = &#45;0.0</text>\n",
       "<text text-anchor=\"start\" x=\"119.4\" y=\"-20.8\" font-family=\"Helvetica,sans-Serif\" font-size=\"14.00\">samples = 1</text>\n",
       "<text text-anchor=\"start\" x=\"119\" y=\"-6.8\" font-family=\"Helvetica,sans-Serif\" font-size=\"14.00\">value = 27.9</text>\n",
       "</g>\n",
       "<!-- 3&#45;&gt;5 -->\n",
       "<g id=\"edge5\" class=\"edge\"><title>3&#45;&gt;5</title>\n",
       "<path fill=\"none\" stroke=\"black\" d=\"M157.336,-85.9375C157.336,-77.6833 157.336,-68.7219 157.336,-60.3053\"/>\n",
       "<polygon fill=\"black\" stroke=\"black\" points=\"160.836,-60.03 157.336,-50.0301 153.836,-60.0301 160.836,-60.03\"/>\n",
       "</g>\n",
       "<!-- 7 -->\n",
       "<g id=\"node8\" class=\"node\"><title>7</title>\n",
       "<path fill=\"#e58139\" fill-opacity=\"0.282353\" stroke=\"black\" d=\"M325.366,-50C325.366,-50 233.306,-50 233.306,-50 227.306,-50 221.306,-44 221.306,-38 221.306,-38 221.306,-12 221.306,-12 221.306,-6 227.306,-0 233.306,-0 233.306,-0 325.366,-0 325.366,-0 331.366,-0 337.366,-6 337.366,-12 337.366,-12 337.366,-38 337.366,-38 337.366,-44 331.366,-50 325.366,-50\"/>\n",
       "<text text-anchor=\"start\" x=\"236.724\" y=\"-34.8\" font-family=\"Helvetica,sans-Serif\" font-size=\"14.00\">mse = 8.3901</text>\n",
       "<text text-anchor=\"start\" x=\"233.614\" y=\"-20.8\" font-family=\"Helvetica,sans-Serif\" font-size=\"14.00\">samples = 195</text>\n",
       "<text text-anchor=\"start\" x=\"229.321\" y=\"-6.8\" font-family=\"Helvetica,sans-Serif\" font-size=\"14.00\">value = 21.6297</text>\n",
       "</g>\n",
       "<!-- 6&#45;&gt;7 -->\n",
       "<g id=\"edge7\" class=\"edge\"><title>6&#45;&gt;7</title>\n",
       "<path fill=\"none\" stroke=\"black\" d=\"M326.759,-85.9375C319.648,-76.9496 311.873,-67.1231 304.714,-58.0747\"/>\n",
       "<polygon fill=\"black\" stroke=\"black\" points=\"307.298,-55.7006 298.349,-50.0301 301.809,-60.044 307.298,-55.7006\"/>\n",
       "</g>\n",
       "<!-- 8 -->\n",
       "<g id=\"node9\" class=\"node\"><title>8</title>\n",
       "<path fill=\"#e58139\" fill-opacity=\"0.431373\" stroke=\"black\" d=\"M459.366,-50C459.366,-50 367.306,-50 367.306,-50 361.306,-50 355.306,-44 355.306,-38 355.306,-38 355.306,-12 355.306,-12 355.306,-6 361.306,-0 367.306,-0 367.306,-0 459.366,-0 459.366,-0 465.366,-0 471.366,-6 471.366,-12 471.366,-12 471.366,-38 471.366,-38 471.366,-44 465.366,-50 459.366,-50\"/>\n",
       "<text text-anchor=\"start\" x=\"371.24\" y=\"-34.8\" font-family=\"Helvetica,sans-Serif\" font-size=\"14.00\">mse = 11.694</text>\n",
       "<text text-anchor=\"start\" x=\"371.507\" y=\"-20.8\" font-family=\"Helvetica,sans-Serif\" font-size=\"14.00\">samples = 55</text>\n",
       "<text text-anchor=\"start\" x=\"363.321\" y=\"-6.8\" font-family=\"Helvetica,sans-Serif\" font-size=\"14.00\">value = 27.4273</text>\n",
       "</g>\n",
       "<!-- 6&#45;&gt;8 -->\n",
       "<g id=\"edge8\" class=\"edge\"><title>6&#45;&gt;8</title>\n",
       "<path fill=\"none\" stroke=\"black\" d=\"M372.499,-85.9375C378.561,-77.0413 385.181,-67.3236 391.294,-58.352\"/>\n",
       "<polygon fill=\"black\" stroke=\"black\" points=\"394.226,-60.265 396.964,-50.0301 388.441,-56.3236 394.226,-60.265\"/>\n",
       "</g>\n",
       "<!-- 10 -->\n",
       "<g id=\"node11\" class=\"node\"><title>10</title>\n",
       "<path fill=\"#e58139\" fill-opacity=\"0.196078\" stroke=\"black\" d=\"M727.366,-150C727.366,-150 635.306,-150 635.306,-150 629.306,-150 623.306,-144 623.306,-138 623.306,-138 623.306,-98 623.306,-98 623.306,-92 629.306,-86 635.306,-86 635.306,-86 727.366,-86 727.366,-86 733.366,-86 739.366,-92 739.366,-98 739.366,-98 739.366,-138 739.366,-138 739.366,-144 733.366,-150 727.366,-150\"/>\n",
       "<text text-anchor=\"start\" x=\"634.308\" y=\"-134.8\" font-family=\"Helvetica,sans-Serif\" font-size=\"14.00\">CRIM ≤ 0.5538</text>\n",
       "<text text-anchor=\"start\" x=\"634.831\" y=\"-120.8\" font-family=\"Helvetica,sans-Serif\" font-size=\"14.00\">mse = 12.2539</text>\n",
       "<text text-anchor=\"start\" x=\"639.507\" y=\"-106.8\" font-family=\"Helvetica,sans-Serif\" font-size=\"14.00\">samples = 68</text>\n",
       "<text text-anchor=\"start\" x=\"631.321\" y=\"-92.8\" font-family=\"Helvetica,sans-Serif\" font-size=\"14.00\">value = 18.1235</text>\n",
       "</g>\n",
       "<!-- 9&#45;&gt;10 -->\n",
       "<g id=\"edge10\" class=\"edge\"><title>9&#45;&gt;10</title>\n",
       "<path fill=\"none\" stroke=\"black\" d=\"M727.137,-185.992C721.149,-177.234 714.552,-167.585 708.275,-158.404\"/>\n",
       "<polygon fill=\"black\" stroke=\"black\" points=\"711.16,-156.422 702.627,-150.142 705.382,-160.373 711.16,-156.422\"/>\n",
       "</g>\n",
       "<!-- 13 -->\n",
       "<g id=\"node14\" class=\"node\"><title>13</title>\n",
       "<path fill=\"#e58139\" fill-opacity=\"0.062745\" stroke=\"black\" d=\"M860.875,-150C860.875,-150 769.797,-150 769.797,-150 763.797,-150 757.797,-144 757.797,-138 757.797,-138 757.797,-98 757.797,-98 757.797,-92 763.797,-86 769.797,-86 769.797,-86 860.875,-86 860.875,-86 866.875,-86 872.875,-92 872.875,-98 872.875,-98 872.875,-138 872.875,-138 872.875,-144 866.875,-150 860.875,-150\"/>\n",
       "<text text-anchor=\"start\" x=\"765.567\" y=\"-134.8\" font-family=\"Helvetica,sans-Serif\" font-size=\"14.00\">LSTAT ≤ 19.645</text>\n",
       "<text text-anchor=\"start\" x=\"768.831\" y=\"-120.8\" font-family=\"Helvetica,sans-Serif\" font-size=\"14.00\">mse = 13.3097</text>\n",
       "<text text-anchor=\"start\" x=\"769.614\" y=\"-106.8\" font-family=\"Helvetica,sans-Serif\" font-size=\"14.00\">samples = 107</text>\n",
       "<text text-anchor=\"start\" x=\"769.214\" y=\"-92.8\" font-family=\"Helvetica,sans-Serif\" font-size=\"14.00\">value = 12.943</text>\n",
       "</g>\n",
       "<!-- 9&#45;&gt;13 -->\n",
       "<g id=\"edge13\" class=\"edge\"><title>9&#45;&gt;13</title>\n",
       "<path fill=\"none\" stroke=\"black\" d=\"M769.535,-185.992C775.523,-177.234 782.12,-167.585 788.397,-158.404\"/>\n",
       "<polygon fill=\"black\" stroke=\"black\" points=\"791.29,-160.373 794.045,-150.142 785.511,-156.422 791.29,-160.373\"/>\n",
       "</g>\n",
       "<!-- 11 -->\n",
       "<g id=\"node12\" class=\"node\"><title>11</title>\n",
       "<path fill=\"#e58139\" fill-opacity=\"0.235294\" stroke=\"black\" d=\"M593.366,-50C593.366,-50 501.306,-50 501.306,-50 495.306,-50 489.306,-44 489.306,-38 489.306,-38 489.306,-12 489.306,-12 489.306,-6 495.306,-0 501.306,-0 501.306,-0 593.366,-0 593.366,-0 599.366,-0 605.366,-6 605.366,-12 605.366,-12 605.366,-38 605.366,-38 605.366,-44 599.366,-50 593.366,-50\"/>\n",
       "<text text-anchor=\"start\" x=\"504.724\" y=\"-34.8\" font-family=\"Helvetica,sans-Serif\" font-size=\"14.00\">mse = 6.9849</text>\n",
       "<text text-anchor=\"start\" x=\"505.507\" y=\"-20.8\" font-family=\"Helvetica,sans-Serif\" font-size=\"14.00\">samples = 39</text>\n",
       "<text text-anchor=\"start\" x=\"497.321\" y=\"-6.8\" font-family=\"Helvetica,sans-Serif\" font-size=\"14.00\">value = 19.7385</text>\n",
       "</g>\n",
       "<!-- 10&#45;&gt;11 -->\n",
       "<g id=\"edge11\" class=\"edge\"><title>10&#45;&gt;11</title>\n",
       "<path fill=\"none\" stroke=\"black\" d=\"M635.596,-85.9375C621.28,-76.2158 605.52,-65.5132 591.328,-55.8752\"/>\n",
       "<polygon fill=\"black\" stroke=\"black\" points=\"592.96,-52.7527 582.721,-50.0301 589.027,-58.5436 592.96,-52.7527\"/>\n",
       "</g>\n",
       "<!-- 12 -->\n",
       "<g id=\"node13\" class=\"node\"><title>12</title>\n",
       "<path fill=\"#e58139\" fill-opacity=\"0.141176\" stroke=\"black\" d=\"M727.366,-50C727.366,-50 635.306,-50 635.306,-50 629.306,-50 623.306,-44 623.306,-38 623.306,-38 623.306,-12 623.306,-12 623.306,-6 629.306,-0 635.306,-0 635.306,-0 727.366,-0 727.366,-0 733.366,-0 739.366,-6 739.366,-12 739.366,-12 739.366,-38 739.366,-38 739.366,-44 733.366,-50 727.366,-50\"/>\n",
       "<text text-anchor=\"start\" x=\"635.863\" y=\"-34.8\" font-family=\"Helvetica,sans-Serif\" font-size=\"14.00\">mse = 11.1156</text>\n",
       "<text text-anchor=\"start\" x=\"639.507\" y=\"-20.8\" font-family=\"Helvetica,sans-Serif\" font-size=\"14.00\">samples = 29</text>\n",
       "<text text-anchor=\"start\" x=\"631.321\" y=\"-6.8\" font-family=\"Helvetica,sans-Serif\" font-size=\"14.00\">value = 15.9517</text>\n",
       "</g>\n",
       "<!-- 10&#45;&gt;12 -->\n",
       "<g id=\"edge12\" class=\"edge\"><title>10&#45;&gt;12</title>\n",
       "<path fill=\"none\" stroke=\"black\" d=\"M681.336,-85.9375C681.336,-77.6833 681.336,-68.7219 681.336,-60.3053\"/>\n",
       "<polygon fill=\"black\" stroke=\"black\" points=\"684.836,-60.03 681.336,-50.0301 677.836,-60.0301 684.836,-60.03\"/>\n",
       "</g>\n",
       "<!-- 14 -->\n",
       "<g id=\"node15\" class=\"node\"><title>14</title>\n",
       "<path fill=\"#e58139\" fill-opacity=\"0.129412\" stroke=\"black\" d=\"M861.366,-50C861.366,-50 769.306,-50 769.306,-50 763.306,-50 757.306,-44 757.306,-38 757.306,-38 757.306,-12 757.306,-12 757.306,-6 763.306,-0 769.306,-0 769.306,-0 861.366,-0 861.366,-0 867.366,-0 873.366,-6 873.366,-12 873.366,-12 873.366,-38 873.366,-38 873.366,-44 867.366,-50 861.366,-50\"/>\n",
       "<text text-anchor=\"start\" x=\"772.724\" y=\"-34.8\" font-family=\"Helvetica,sans-Serif\" font-size=\"14.00\">mse = 6.2035</text>\n",
       "<text text-anchor=\"start\" x=\"773.507\" y=\"-20.8\" font-family=\"Helvetica,sans-Serif\" font-size=\"14.00\">samples = 51</text>\n",
       "<text text-anchor=\"start\" x=\"765.321\" y=\"-6.8\" font-family=\"Helvetica,sans-Serif\" font-size=\"14.00\">value = 15.4804</text>\n",
       "</g>\n",
       "<!-- 13&#45;&gt;14 -->\n",
       "<g id=\"edge14\" class=\"edge\"><title>13&#45;&gt;14</title>\n",
       "<path fill=\"none\" stroke=\"black\" d=\"M815.336,-85.9375C815.336,-77.6833 815.336,-68.7219 815.336,-60.3053\"/>\n",
       "<polygon fill=\"black\" stroke=\"black\" points=\"818.836,-60.03 815.336,-50.0301 811.836,-60.0301 818.836,-60.03\"/>\n",
       "</g>\n",
       "<!-- 15 -->\n",
       "<g id=\"node16\" class=\"node\"><title>15</title>\n",
       "<path fill=\"#e58139\" fill-opacity=\"0.003922\" stroke=\"black\" d=\"M995.366,-50C995.366,-50 903.306,-50 903.306,-50 897.306,-50 891.306,-44 891.306,-38 891.306,-38 891.306,-12 891.306,-12 891.306,-6 897.306,-0 903.306,-0 903.306,-0 995.366,-0 995.366,-0 1001.37,-0 1007.37,-6 1007.37,-12 1007.37,-12 1007.37,-38 1007.37,-38 1007.37,-44 1001.37,-50 995.366,-50\"/>\n",
       "<text text-anchor=\"start\" x=\"906.724\" y=\"-34.8\" font-family=\"Helvetica,sans-Serif\" font-size=\"14.00\">mse = 8.5779</text>\n",
       "<text text-anchor=\"start\" x=\"907.507\" y=\"-20.8\" font-family=\"Helvetica,sans-Serif\" font-size=\"14.00\">samples = 56</text>\n",
       "<text text-anchor=\"start\" x=\"899.321\" y=\"-6.8\" font-family=\"Helvetica,sans-Serif\" font-size=\"14.00\">value = 10.6321</text>\n",
       "</g>\n",
       "<!-- 13&#45;&gt;15 -->\n",
       "<g id=\"edge15\" class=\"edge\"><title>13&#45;&gt;15</title>\n",
       "<path fill=\"none\" stroke=\"black\" d=\"M861.076,-85.9375C875.392,-76.2158 891.152,-65.5132 905.344,-55.8752\"/>\n",
       "<polygon fill=\"black\" stroke=\"black\" points=\"907.645,-58.5436 913.951,-50.0301 903.712,-52.7527 907.645,-58.5436\"/>\n",
       "</g>\n",
       "<!-- 17 -->\n",
       "<g id=\"node18\" class=\"node\"><title>17</title>\n",
       "<path fill=\"#e58139\" fill-opacity=\"0.549020\" stroke=\"black\" d=\"M1313.85,-250C1313.85,-250 1228.83,-250 1228.83,-250 1222.83,-250 1216.83,-244 1216.83,-238 1216.83,-238 1216.83,-198 1216.83,-198 1216.83,-192 1222.83,-186 1228.83,-186 1228.83,-186 1313.85,-186 1313.85,-186 1319.85,-186 1325.85,-192 1325.85,-198 1325.85,-198 1325.85,-238 1325.85,-238 1325.85,-244 1319.85,-250 1313.85,-250\"/>\n",
       "<text text-anchor=\"start\" x=\"1230.92\" y=\"-234.8\" font-family=\"Helvetica,sans-Serif\" font-size=\"14.00\">NOX ≤ 0.659</text>\n",
       "<text text-anchor=\"start\" x=\"1224.83\" y=\"-220.8\" font-family=\"Helvetica,sans-Serif\" font-size=\"14.00\">mse = 41.2959</text>\n",
       "<text text-anchor=\"start\" x=\"1229.51\" y=\"-206.8\" font-family=\"Helvetica,sans-Serif\" font-size=\"14.00\">samples = 46</text>\n",
       "<text text-anchor=\"start\" x=\"1225.73\" y=\"-192.8\" font-family=\"Helvetica,sans-Serif\" font-size=\"14.00\">value = 32.113</text>\n",
       "</g>\n",
       "<!-- 16&#45;&gt;17 -->\n",
       "<g id=\"edge17\" class=\"edge\"><title>16&#45;&gt;17</title>\n",
       "<path fill=\"none\" stroke=\"black\" d=\"M1271.34,-285.992C1271.34,-277.859 1271.34,-268.959 1271.34,-260.378\"/>\n",
       "<polygon fill=\"black\" stroke=\"black\" points=\"1274.84,-260.142 1271.34,-250.142 1267.84,-260.142 1274.84,-260.142\"/>\n",
       "</g>\n",
       "<!-- 24 -->\n",
       "<g id=\"node25\" class=\"node\"><title>24</title>\n",
       "<path fill=\"#e58139\" fill-opacity=\"0.874510\" stroke=\"black\" d=\"M1605.37,-250C1605.37,-250 1513.31,-250 1513.31,-250 1507.31,-250 1501.31,-244 1501.31,-238 1501.31,-238 1501.31,-198 1501.31,-198 1501.31,-192 1507.31,-186 1513.31,-186 1513.31,-186 1605.37,-186 1605.37,-186 1611.37,-186 1617.37,-192 1617.37,-198 1617.37,-198 1617.37,-238 1617.37,-238 1617.37,-244 1611.37,-250 1605.37,-250\"/>\n",
       "<text text-anchor=\"start\" x=\"1519.31\" y=\"-234.8\" font-family=\"Helvetica,sans-Serif\" font-size=\"14.00\">RM ≤ 8.7525</text>\n",
       "<text text-anchor=\"start\" x=\"1512.83\" y=\"-220.8\" font-family=\"Helvetica,sans-Serif\" font-size=\"14.00\">mse = 36.6283</text>\n",
       "<text text-anchor=\"start\" x=\"1517.51\" y=\"-206.8\" font-family=\"Helvetica,sans-Serif\" font-size=\"14.00\">samples = 30</text>\n",
       "<text text-anchor=\"start\" x=\"1509.32\" y=\"-192.8\" font-family=\"Helvetica,sans-Serif\" font-size=\"14.00\">value = 45.0967</text>\n",
       "</g>\n",
       "<!-- 16&#45;&gt;24 -->\n",
       "<g id=\"edge24\" class=\"edge\"><title>16&#45;&gt;24</title>\n",
       "<path fill=\"none\" stroke=\"black\" d=\"M1329.62,-297.168C1376.46,-281.228 1442.33,-258.814 1491.53,-242.071\"/>\n",
       "<polygon fill=\"black\" stroke=\"black\" points=\"1492.8,-245.337 1501.14,-238.802 1490.55,-238.71 1492.8,-245.337\"/>\n",
       "</g>\n",
       "<!-- 18 -->\n",
       "<g id=\"node19\" class=\"node\"><title>18</title>\n",
       "<path fill=\"#e58139\" fill-opacity=\"0.580392\" stroke=\"black\" d=\"M1250.37,-150C1250.37,-150 1158.31,-150 1158.31,-150 1152.31,-150 1146.31,-144 1146.31,-138 1146.31,-138 1146.31,-98 1146.31,-98 1146.31,-92 1152.31,-86 1158.31,-86 1158.31,-86 1250.37,-86 1250.37,-86 1256.37,-86 1262.37,-92 1262.37,-98 1262.37,-98 1262.37,-138 1262.37,-138 1262.37,-144 1256.37,-150 1250.37,-150\"/>\n",
       "<text text-anchor=\"start\" x=\"1167.42\" y=\"-134.8\" font-family=\"Helvetica,sans-Serif\" font-size=\"14.00\">DIS ≤ 1.886</text>\n",
       "<text text-anchor=\"start\" x=\"1158.35\" y=\"-120.8\" font-family=\"Helvetica,sans-Serif\" font-size=\"14.00\">mse = 20.1109</text>\n",
       "<text text-anchor=\"start\" x=\"1162.51\" y=\"-106.8\" font-family=\"Helvetica,sans-Serif\" font-size=\"14.00\">samples = 43</text>\n",
       "<text text-anchor=\"start\" x=\"1154.32\" y=\"-92.8\" font-family=\"Helvetica,sans-Serif\" font-size=\"14.00\">value = 33.3488</text>\n",
       "</g>\n",
       "<!-- 17&#45;&gt;18 -->\n",
       "<g id=\"edge18\" class=\"edge\"><title>17&#45;&gt;18</title>\n",
       "<path fill=\"none\" stroke=\"black\" d=\"M1250.14,-185.992C1244.15,-177.234 1237.55,-167.585 1231.28,-158.404\"/>\n",
       "<polygon fill=\"black\" stroke=\"black\" points=\"1234.16,-156.422 1225.63,-150.142 1228.38,-160.373 1234.16,-156.422\"/>\n",
       "</g>\n",
       "<!-- 21 -->\n",
       "<g id=\"node22\" class=\"node\"><title>21</title>\n",
       "<path fill=\"#e58139\" fill-opacity=\"0.101961\" stroke=\"black\" d=\"M1386.18,-150C1386.18,-150 1292.49,-150 1292.49,-150 1286.49,-150 1280.49,-144 1280.49,-138 1280.49,-138 1280.49,-98 1280.49,-98 1280.49,-92 1286.49,-86 1292.49,-86 1292.49,-86 1386.18,-86 1386.18,-86 1392.18,-86 1398.18,-92 1398.18,-98 1398.18,-98 1398.18,-138 1398.18,-138 1398.18,-144 1392.18,-150 1386.18,-150\"/>\n",
       "<text text-anchor=\"start\" x=\"1288.42\" y=\"-134.8\" font-family=\"Helvetica,sans-Serif\" font-size=\"14.00\">CRIM ≤ 54.2926</text>\n",
       "<text text-anchor=\"start\" x=\"1296.72\" y=\"-120.8\" font-family=\"Helvetica,sans-Serif\" font-size=\"14.00\">mse = 9.3067</text>\n",
       "<text text-anchor=\"start\" x=\"1301.4\" y=\"-106.8\" font-family=\"Helvetica,sans-Serif\" font-size=\"14.00\">samples = 3</text>\n",
       "<text text-anchor=\"start\" x=\"1301\" y=\"-92.8\" font-family=\"Helvetica,sans-Serif\" font-size=\"14.00\">value = 14.4</text>\n",
       "</g>\n",
       "<!-- 17&#45;&gt;21 -->\n",
       "<g id=\"edge21\" class=\"edge\"><title>17&#45;&gt;21</title>\n",
       "<path fill=\"none\" stroke=\"black\" d=\"M1292.85,-185.992C1298.93,-177.234 1305.62,-167.585 1311.99,-158.404\"/>\n",
       "<polygon fill=\"black\" stroke=\"black\" points=\"1314.9,-160.354 1317.73,-150.142 1309.15,-156.363 1314.9,-160.354\"/>\n",
       "</g>\n",
       "<!-- 19 -->\n",
       "<g id=\"node20\" class=\"node\"><title>19</title>\n",
       "<path fill=\"#e58139\" fill-opacity=\"0.890196\" stroke=\"black\" d=\"M1122.85,-50C1122.85,-50 1037.83,-50 1037.83,-50 1031.83,-50 1025.83,-44 1025.83,-38 1025.83,-38 1025.83,-12 1025.83,-12 1025.83,-6 1031.83,-0 1037.83,-0 1037.83,-0 1122.85,-0 1122.85,-0 1128.85,-0 1134.85,-6 1134.85,-12 1134.85,-12 1134.85,-38 1134.85,-38 1134.85,-44 1128.85,-50 1122.85,-50\"/>\n",
       "<text text-anchor=\"start\" x=\"1033.83\" y=\"-34.8\" font-family=\"Helvetica,sans-Serif\" font-size=\"14.00\">mse = 18.9225</text>\n",
       "<text text-anchor=\"start\" x=\"1042.4\" y=\"-20.8\" font-family=\"Helvetica,sans-Serif\" font-size=\"14.00\">samples = 2</text>\n",
       "<text text-anchor=\"start\" x=\"1038.11\" y=\"-6.8\" font-family=\"Helvetica,sans-Serif\" font-size=\"14.00\">value = 45.65</text>\n",
       "</g>\n",
       "<!-- 18&#45;&gt;19 -->\n",
       "<g id=\"edge19\" class=\"edge\"><title>18&#45;&gt;19</title>\n",
       "<path fill=\"none\" stroke=\"black\" d=\"M1162.01,-85.9375C1148.89,-76.3076 1134.45,-65.7151 1121.42,-56.1483\"/>\n",
       "<polygon fill=\"black\" stroke=\"black\" points=\"1123.21,-53.1249 1113.08,-50.0301 1119.07,-58.7683 1123.21,-53.1249\"/>\n",
       "</g>\n",
       "<!-- 20 -->\n",
       "<g id=\"node21\" class=\"node\"><title>20</title>\n",
       "<path fill=\"#e58139\" fill-opacity=\"0.564706\" stroke=\"black\" d=\"M1257.37,-50C1257.37,-50 1165.31,-50 1165.31,-50 1159.31,-50 1153.31,-44 1153.31,-38 1153.31,-38 1153.31,-12 1153.31,-12 1153.31,-6 1159.31,-0 1165.31,-0 1165.31,-0 1257.37,-0 1257.37,-0 1263.37,-0 1269.37,-6 1269.37,-12 1269.37,-12 1269.37,-38 1269.37,-38 1269.37,-44 1263.37,-50 1257.37,-50\"/>\n",
       "<text text-anchor=\"start\" x=\"1164.83\" y=\"-34.8\" font-family=\"Helvetica,sans-Serif\" font-size=\"14.00\">mse = 12.4274</text>\n",
       "<text text-anchor=\"start\" x=\"1169.51\" y=\"-20.8\" font-family=\"Helvetica,sans-Serif\" font-size=\"14.00\">samples = 41</text>\n",
       "<text text-anchor=\"start\" x=\"1161.32\" y=\"-6.8\" font-family=\"Helvetica,sans-Serif\" font-size=\"14.00\">value = 32.7488</text>\n",
       "</g>\n",
       "<!-- 18&#45;&gt;20 -->\n",
       "<g id=\"edge20\" class=\"edge\"><title>18&#45;&gt;20</title>\n",
       "<path fill=\"none\" stroke=\"black\" d=\"M1206.73,-85.9375C1207.37,-77.5916 1208.06,-68.5226 1208.72,-60.025\"/>\n",
       "<polygon fill=\"black\" stroke=\"black\" points=\"1212.21,-60.2691 1209.49,-50.0301 1205.23,-59.7321 1212.21,-60.2691\"/>\n",
       "</g>\n",
       "<!-- 22 -->\n",
       "<g id=\"node23\" class=\"node\"><title>22</title>\n",
       "<path fill=\"#e58139\" fill-opacity=\"0.152941\" stroke=\"black\" d=\"M1367.51,-50C1367.51,-50 1299.16,-50 1299.16,-50 1293.16,-50 1287.16,-44 1287.16,-38 1287.16,-38 1287.16,-12 1287.16,-12 1287.16,-6 1293.16,-0 1299.16,-0 1299.16,-0 1367.51,-0 1367.51,-0 1373.51,-0 1379.51,-6 1379.51,-12 1379.51,-12 1379.51,-38 1379.51,-38 1379.51,-44 1373.51,-50 1367.51,-50\"/>\n",
       "<text text-anchor=\"start\" x=\"1298.51\" y=\"-34.8\" font-family=\"Helvetica,sans-Serif\" font-size=\"14.00\">mse = 1.96</text>\n",
       "<text text-anchor=\"start\" x=\"1295.4\" y=\"-20.8\" font-family=\"Helvetica,sans-Serif\" font-size=\"14.00\">samples = 2</text>\n",
       "<text text-anchor=\"start\" x=\"1295\" y=\"-6.8\" font-family=\"Helvetica,sans-Serif\" font-size=\"14.00\">value = 16.4</text>\n",
       "</g>\n",
       "<!-- 21&#45;&gt;22 -->\n",
       "<g id=\"edge22\" class=\"edge\"><title>21&#45;&gt;22</title>\n",
       "<path fill=\"none\" stroke=\"black\" d=\"M1337.29,-85.9375C1336.74,-77.5916 1336.14,-68.5226 1335.58,-60.025\"/>\n",
       "<polygon fill=\"black\" stroke=\"black\" points=\"1339.07,-59.7781 1334.92,-50.0301 1332.09,-60.2387 1339.07,-59.7781\"/>\n",
       "</g>\n",
       "<!-- 23 -->\n",
       "<g id=\"node24\" class=\"node\"><title>23</title>\n",
       "<path fill=\"none\" stroke=\"black\" d=\"M1478.51,-50C1478.51,-50 1410.16,-50 1410.16,-50 1404.16,-50 1398.16,-44 1398.16,-38 1398.16,-38 1398.16,-12 1398.16,-12 1398.16,-6 1404.16,-0 1410.16,-0 1410.16,-0 1478.51,-0 1478.51,-0 1484.51,-0 1490.51,-6 1490.51,-12 1490.51,-12 1490.51,-38 1490.51,-38 1490.51,-44 1484.51,-50 1478.51,-50\"/>\n",
       "<text text-anchor=\"start\" x=\"1413.4\" y=\"-34.8\" font-family=\"Helvetica,sans-Serif\" font-size=\"14.00\">mse = 0.0</text>\n",
       "<text text-anchor=\"start\" x=\"1406.4\" y=\"-20.8\" font-family=\"Helvetica,sans-Serif\" font-size=\"14.00\">samples = 1</text>\n",
       "<text text-anchor=\"start\" x=\"1406\" y=\"-6.8\" font-family=\"Helvetica,sans-Serif\" font-size=\"14.00\">value = 10.4</text>\n",
       "</g>\n",
       "<!-- 21&#45;&gt;23 -->\n",
       "<g id=\"edge23\" class=\"edge\"><title>21&#45;&gt;23</title>\n",
       "<path fill=\"none\" stroke=\"black\" d=\"M1375.18,-85.9375C1386.08,-76.491 1398.05,-66.1182 1408.92,-56.6961\"/>\n",
       "<polygon fill=\"black\" stroke=\"black\" points=\"1411.34,-59.2243 1416.61,-50.0301 1406.76,-53.9345 1411.34,-59.2243\"/>\n",
       "</g>\n",
       "<!-- 25 -->\n",
       "<g id=\"node26\" class=\"node\"><title>25</title>\n",
       "<path fill=\"#e58139\" fill-opacity=\"0.898039\" stroke=\"black\" d=\"M1606.68,-150C1606.68,-150 1511.99,-150 1511.99,-150 1505.99,-150 1499.99,-144 1499.99,-138 1499.99,-138 1499.99,-98 1499.99,-98 1499.99,-92 1505.99,-86 1511.99,-86 1511.99,-86 1606.68,-86 1606.68,-86 1612.68,-86 1618.68,-92 1618.68,-98 1618.68,-98 1618.68,-138 1618.68,-138 1618.68,-144 1612.68,-150 1606.68,-150\"/>\n",
       "<text text-anchor=\"start\" x=\"1508.16\" y=\"-134.8\" font-family=\"Helvetica,sans-Serif\" font-size=\"14.00\">PTRATIO ≤ 14.8</text>\n",
       "<text text-anchor=\"start\" x=\"1512.83\" y=\"-120.8\" font-family=\"Helvetica,sans-Serif\" font-size=\"14.00\">mse = 18.6969</text>\n",
       "<text text-anchor=\"start\" x=\"1517.51\" y=\"-106.8\" font-family=\"Helvetica,sans-Serif\" font-size=\"14.00\">samples = 29</text>\n",
       "<text text-anchor=\"start\" x=\"1509.32\" y=\"-92.8\" font-family=\"Helvetica,sans-Serif\" font-size=\"14.00\">value = 45.8966</text>\n",
       "</g>\n",
       "<!-- 24&#45;&gt;25 -->\n",
       "<g id=\"edge25\" class=\"edge\"><title>24&#45;&gt;25</title>\n",
       "<path fill=\"none\" stroke=\"black\" d=\"M1559.34,-185.992C1559.34,-177.859 1559.34,-168.959 1559.34,-160.378\"/>\n",
       "<polygon fill=\"black\" stroke=\"black\" points=\"1562.84,-160.142 1559.34,-150.142 1555.84,-160.142 1562.84,-160.142\"/>\n",
       "</g>\n",
       "<!-- 28 -->\n",
       "<g id=\"node29\" class=\"node\"><title>28</title>\n",
       "<path fill=\"#e58139\" fill-opacity=\"0.290196\" stroke=\"black\" d=\"M1717.51,-143C1717.51,-143 1649.16,-143 1649.16,-143 1643.16,-143 1637.16,-137 1637.16,-131 1637.16,-131 1637.16,-105 1637.16,-105 1637.16,-99 1643.16,-93 1649.16,-93 1649.16,-93 1717.51,-93 1717.51,-93 1723.51,-93 1729.51,-99 1729.51,-105 1729.51,-105 1729.51,-131 1729.51,-131 1729.51,-137 1723.51,-143 1717.51,-143\"/>\n",
       "<text text-anchor=\"start\" x=\"1650.07\" y=\"-127.8\" font-family=\"Helvetica,sans-Serif\" font-size=\"14.00\">mse = &#45;0.0</text>\n",
       "<text text-anchor=\"start\" x=\"1645.4\" y=\"-113.8\" font-family=\"Helvetica,sans-Serif\" font-size=\"14.00\">samples = 1</text>\n",
       "<text text-anchor=\"start\" x=\"1645\" y=\"-99.8\" font-family=\"Helvetica,sans-Serif\" font-size=\"14.00\">value = 21.9</text>\n",
       "</g>\n",
       "<!-- 24&#45;&gt;28 -->\n",
       "<g id=\"edge28\" class=\"edge\"><title>24&#45;&gt;28</title>\n",
       "<path fill=\"none\" stroke=\"black\" d=\"M1598.57,-185.992C1613.3,-174.353 1630.01,-161.141 1644.69,-149.544\"/>\n",
       "<polygon fill=\"black\" stroke=\"black\" points=\"1646.93,-152.234 1652.6,-143.288 1642.59,-146.742 1646.93,-152.234\"/>\n",
       "</g>\n",
       "<!-- 26 -->\n",
       "<g id=\"node27\" class=\"node\"><title>26</title>\n",
       "<path fill=\"#e58139\" fill-opacity=\"0.956863\" stroke=\"black\" d=\"M1598.06,-50C1598.06,-50 1520.61,-50 1520.61,-50 1514.61,-50 1508.61,-44 1508.61,-38 1508.61,-38 1508.61,-12 1508.61,-12 1508.61,-6 1514.61,-0 1520.61,-0 1520.61,-0 1598.06,-0 1598.06,-0 1604.06,-0 1610.06,-6 1610.06,-12 1610.06,-12 1610.06,-38 1610.06,-38 1610.06,-44 1604.06,-50 1598.06,-50\"/>\n",
       "<text text-anchor=\"start\" x=\"1516.72\" y=\"-34.8\" font-family=\"Helvetica,sans-Serif\" font-size=\"14.00\">mse = 8.0271</text>\n",
       "<text text-anchor=\"start\" x=\"1517.51\" y=\"-20.8\" font-family=\"Helvetica,sans-Serif\" font-size=\"14.00\">samples = 14</text>\n",
       "<text text-anchor=\"start\" x=\"1521\" y=\"-6.8\" font-family=\"Helvetica,sans-Serif\" font-size=\"14.00\">value = 48.3</text>\n",
       "</g>\n",
       "<!-- 25&#45;&gt;26 -->\n",
       "<g id=\"edge26\" class=\"edge\"><title>25&#45;&gt;26</title>\n",
       "<path fill=\"none\" stroke=\"black\" d=\"M1559.34,-85.9375C1559.34,-77.6833 1559.34,-68.7219 1559.34,-60.3053\"/>\n",
       "<polygon fill=\"black\" stroke=\"black\" points=\"1562.84,-60.03 1559.34,-50.0301 1555.84,-60.0301 1562.84,-60.03\"/>\n",
       "</g>\n",
       "<!-- 27 -->\n",
       "<g id=\"node28\" class=\"node\"><title>27</title>\n",
       "<path fill=\"#e58139\" fill-opacity=\"0.839216\" stroke=\"black\" d=\"M1732.37,-50C1732.37,-50 1640.31,-50 1640.31,-50 1634.31,-50 1628.31,-44 1628.31,-38 1628.31,-38 1628.31,-12 1628.31,-12 1628.31,-6 1634.31,-0 1640.31,-0 1640.31,-0 1732.37,-0 1732.37,-0 1738.37,-0 1744.37,-6 1744.37,-12 1744.37,-12 1744.37,-38 1744.37,-38 1744.37,-44 1738.37,-50 1732.37,-50\"/>\n",
       "<text text-anchor=\"start\" x=\"1639.83\" y=\"-34.8\" font-family=\"Helvetica,sans-Serif\" font-size=\"14.00\">mse = 18.2318</text>\n",
       "<text text-anchor=\"start\" x=\"1644.51\" y=\"-20.8\" font-family=\"Helvetica,sans-Serif\" font-size=\"14.00\">samples = 15</text>\n",
       "<text text-anchor=\"start\" x=\"1636.32\" y=\"-6.8\" font-family=\"Helvetica,sans-Serif\" font-size=\"14.00\">value = 43.6533</text>\n",
       "</g>\n",
       "<!-- 25&#45;&gt;27 -->\n",
       "<g id=\"edge27\" class=\"edge\"><title>25&#45;&gt;27</title>\n",
       "<path fill=\"none\" stroke=\"black\" d=\"M1602.69,-85.9375C1616.25,-76.2158 1631.19,-65.5132 1644.64,-55.8752\"/>\n",
       "<polygon fill=\"black\" stroke=\"black\" points=\"1646.71,-58.6996 1652.8,-50.0301 1642.63,-53.0096 1646.71,-58.6996\"/>\n",
       "</g>\n",
       "</g>\n",
       "</svg>\n"
      ],
      "text/plain": [
       "<graphviz.files.Source at 0x111e2f240>"
      ]
     },
     "execution_count": 17,
     "metadata": {},
     "output_type": "execute_result"
    }
   ],
   "source": [
    "from sklearn import tree\n",
    "import graphviz\n",
    "fname = 'my_tree.dot'\n",
    "feature_names = ['CRIM', 'ZN', 'INDUS', 'CHAS', 'NOX', 'RM', 'AGE', 'DIS', 'RAD', 'TAX', 'PTRATIO', 'B', 'LSTAT']\n",
    "\n",
    "tree.export_graphviz(reg, out_file=fname,  \n",
    "                     feature_names=feature_names,  \n",
    "                     filled=True, rounded=True,  \n",
    "                     special_characters=True)\n",
    "\n",
    "\n",
    "with open(fname) as f:\n",
    "    dot_graph = f.read()\n",
    "\n",
    "graphviz.Source(dot_graph)"
   ]
  },
  {
   "cell_type": "markdown",
   "metadata": {},
   "source": [
    "It looks like RM, CRIM, and PTRATIO where all considered in our final decision tree model. However, NOX, LSTAT, and DIS were also considered as very important features in our model criteria. I would expect to see some correlation between LSTAT and CRIM, as typically crime rates are higher in lower income populations <sup>1</sup>. However, it is also clear that population income could be correlated with housing prices, regardless of crime rate. Finally, NOX (nitric oxides concentration) and DIS (distance from city centers, which would impact commute time) clearly affect quality of life, so it is expected that these are important factors in our model.\n",
    "\n",
    "1: http://www.bjs.gov/content/pub/pdf/hpnvv0812.pdf"
   ]
  }
 ],
 "metadata": {
  "kernelspec": {
   "display_name": "Python 3",
   "language": "python",
   "name": "python3"
  },
  "language_info": {
   "codemirror_mode": {
    "name": "ipython",
    "version": 3
   },
   "file_extension": ".py",
   "mimetype": "text/x-python",
   "name": "python",
   "nbconvert_exporter": "python",
   "pygments_lexer": "ipython3",
   "version": "3.4.3"
  }
 },
 "nbformat": 4,
 "nbformat_minor": 0
}
